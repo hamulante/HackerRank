{
 "cells": [
  {
   "cell_type": "markdown",
   "metadata": {},
   "source": [
    "Find Merge Point of Two Lists \n",
    "\n",
    "Given pointers to the head nodes of 2 linked lists that merge together at some point, find the node where the two lists merge. The merge point is where both lists point to the same node, i.e. they reference the same memory location. It is guaranteed that the two head nodes will be different, and neither will be NULL. If the lists share a common node, return that node's data value.\n",
    "Note: After the merge point, both lists will share the same node pointers.\n",
    "\n",
    "Function 'FindMergeNode' has the following parameters:\n",
    "SinglyLinkedListNode pointer head1: a reference to the head of the first list \n",
    "SinglyLinkedListNode pointer head2: a reference to the head of the second list\n",
    "Returns the data value of the node where the lists merge.\n",
    "head1!=head2!=null"
   ]
  },
  {
   "cell_type": "code",
   "execution_count": null,
   "metadata": {},
   "outputs": [],
   "source": [
    "#!/bin/python3\n",
    "\n",
    "import math\n",
    "import os\n",
    "import random\n",
    "import re\n",
    "import sys\n",
    "\n",
    "class SinglyLinkedListNode:\n",
    "    def __init__(self, node_data):\n",
    "        self.data = node_data\n",
    "        self.next = None\n",
    "\n",
    "class SinglyLinkedList:\n",
    "    def __init__(self):\n",
    "        self.head = None\n",
    "        self.tail = None\n",
    "\n",
    "    def insert_node(self, node_data):\n",
    "        node = SinglyLinkedListNode(node_data)\n",
    "\n",
    "        if not self.head:\n",
    "            self.head = node\n",
    "        else:\n",
    "            self.tail.next = node\n",
    "\n",
    "\n",
    "        self.tail = node\n",
    "\n",
    "def print_singly_linked_list(node, sep, fptr):\n",
    "    while node:\n",
    "        fptr.write(str(node.data))\n",
    "\n",
    "        node = node.next\n",
    "\n",
    "        if node:\n",
    "            fptr.write(sep)"
   ]
  },
  {
   "cell_type": "code",
   "execution_count": null,
   "metadata": {},
   "outputs": [],
   "source": [
    "# Complete the findMergeNode function below.\n",
    "\n",
    "#\n",
    "# For your reference:\n",
    "#\n",
    "# SinglyLinkedListNode:\n",
    "#     int data\n",
    "#     SinglyLinkedListNode next\n",
    "#\n",
    "#\n",
    "def findMergeNode(head1, head2):\n",
    "    list_1=[]\n",
    "    while head1:\n",
    "        list_1.append(head1.data)\n",
    "        head1=head1.next\n",
    "    list_2=[]\n",
    "    while head2:\n",
    "        list_2.append(head2.data)\n",
    "        head2=head2.next\n",
    "    temp_1=list_1.pop()\n",
    "    temp_2=list_2.pop()\n",
    "    \n",
    "    while temp_1=temp_2 and len(list_1)>0 and len(list_2)>0: #一条链表本身就是另一条的一部分，短的一条已经走完了\n",
    "        ans=temp_1 \n",
    "        temp_1=list_1.pop()\n",
    "        temp_2=list_2.pop()\n",
    "    return ans\n",
    "#这个做法只能保证data层面，但是这样找到的重合点不能保证内存空间也是一样的！！！\n",
    "#比如两条链表全是1，这样屁股就直接找到了；或者重合点前两位分叉data一样，用这个方法就会找错，但他们其实内存空间是不同的！！！"
   ]
  },
  {
   "cell_type": "code",
   "execution_count": null,
   "metadata": {},
   "outputs": [],
   "source": [
    "# Complete the findMergeNode function below.\n",
    "\n",
    "#\n",
    "# For your reference:\n",
    "#\n",
    "# SinglyLinkedListNode:\n",
    "#     int data\n",
    "#     SinglyLinkedListNode next\n",
    "#\n",
    "#\n",
    "def findMergeNode(head1, head2):\n",
    "    temp_1=head1#1 2 6 7\n",
    "    temp_2=head2#3 4 5 6 7\n",
    "    while temp_1!=temp_2\n",
    "        if temp_1.next==None:\n",
    "            temp_1=head2\n",
    "        else:\n",
    "            temp_1=temp_1.next\n",
    "        if temp_2.next==None:\n",
    "            temp_2=head1\n",
    "        else:\n",
    "            temp_2=temp_2.next\n",
    "    return temp_2.data\n",
    "#1 2 6 7 3 4 5 6 7\n",
    "#3 4 5 6 7 1 2 6 7\n",
    "#果然在6相遇了，类似于最小公倍数"
   ]
  },
  {
   "cell_type": "code",
   "execution_count": null,
   "metadata": {},
   "outputs": [],
   "source": [
    "if __name__ == '__main__':\n",
    "    fptr = open(os.environ['OUTPUT_PATH'], 'w')\n",
    "\n",
    "    tests = int(input())\n",
    "\n",
    "    for tests_itr in range(tests):\n",
    "        index = int(input())\n",
    "\n",
    "        llist1_count = int(input())\n",
    "\n",
    "        llist1 = SinglyLinkedList()\n",
    "\n",
    "        for _ in range(llist1_count):\n",
    "            llist1_item = int(input())\n",
    "            llist1.insert_node(llist1_item)\n",
    "            \n",
    "        llist2_count = int(input())\n",
    "\n",
    "        llist2 = SinglyLinkedList()\n",
    "\n",
    "        for _ in range(llist2_count):\n",
    "            llist2_item = int(input())\n",
    "            llist2.insert_node(llist2_item)\n",
    "            \n",
    "        ptr1 = llist1.head;\n",
    "        ptr2 = llist2.head;\n",
    "\n",
    "        for i in range(llist1_count):\n",
    "            if i < index:\n",
    "                ptr1 = ptr1.next\n",
    "                \n",
    "        for i in range(llist2_count):\n",
    "            if i != llist2_count-1:\n",
    "                ptr2 = ptr2.next\n",
    "\n",
    "        ptr2.next = ptr1\n",
    "\n",
    "        result = findMergeNode(llist1.head, llist2.head)\n",
    "\n",
    "        fptr.write(str(result) + '\\n')\n",
    "\n",
    "    fptr.close()"
   ]
  },
  {
   "cell_type": "code",
   "execution_count": 1,
   "metadata": {},
   "outputs": [
    {
     "data": {
      "text/plain": [
       "3"
      ]
     },
     "execution_count": 1,
     "metadata": {},
     "output_type": "execute_result"
    }
   ],
   "source": [
    "a=[1,2,3]\n",
    "a.pop()\n"
   ]
  },
  {
   "cell_type": "code",
   "execution_count": null,
   "metadata": {},
   "outputs": [],
   "source": []
  }
 ],
 "metadata": {
  "kernelspec": {
   "display_name": "Python 3",
   "language": "python",
   "name": "python3"
  },
  "language_info": {
   "codemirror_mode": {
    "name": "ipython",
    "version": 3
   },
   "file_extension": ".py",
   "mimetype": "text/x-python",
   "name": "python",
   "nbconvert_exporter": "python",
   "pygments_lexer": "ipython3",
   "version": "3.8.3"
  }
 },
 "nbformat": 4,
 "nbformat_minor": 4
}
