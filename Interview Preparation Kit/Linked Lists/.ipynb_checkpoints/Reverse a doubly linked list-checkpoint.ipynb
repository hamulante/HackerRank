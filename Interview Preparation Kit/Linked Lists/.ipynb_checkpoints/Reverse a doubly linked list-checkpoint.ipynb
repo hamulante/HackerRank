{
 "cells": [
  {
   "cell_type": "code",
   "execution_count": null,
   "metadata": {},
   "outputs": [],
   "source": [
    "#!/bin/python3\n",
    "\n",
    "import math\n",
    "import os\n",
    "import random\n",
    "import re\n",
    "import sys\n",
    "\n",
    "class DoublyLinkedListNode:\n",
    "    def __init__(self, node_data):\n",
    "        self.data = node_data\n",
    "        self.next = None\n",
    "        self.prev = None\n",
    "\n",
    "class DoublyLinkedList:\n",
    "    def __init__(self):\n",
    "        self.head = None\n",
    "        self.tail = None\n",
    "\n",
    "    def insert_node(self, node_data):\n",
    "        node = DoublyLinkedListNode(node_data)\n",
    "\n",
    "        if not self.head:\n",
    "            self.head = node\n",
    "        else:\n",
    "            self.tail.next = node\n",
    "            node.prev = self.tail\n",
    "\n",
    "\n",
    "        self.tail = node\n",
    "\n",
    "def print_doubly_linked_list(node, sep, fptr):\n",
    "    while node:\n",
    "        fptr.write(str(node.data))\n",
    "\n",
    "        node = node.next\n",
    "\n",
    "        if node:\n",
    "            fptr.write(sep)"
   ]
  },
  {
   "cell_type": "code",
   "execution_count": null,
   "metadata": {},
   "outputs": [],
   "source": [
    "# Complete the reverse function below.\n",
    "\n",
    "#\n",
    "# For your reference:\n",
    "#\n",
    "# DoublyLinkedListNode:\n",
    "#     int data\n",
    "#     DoublyLinkedListNode next\n",
    "#     DoublyLinkedListNode prev\n",
    "#\n",
    "#\n",
    "def reverse(head):\n",
    "    pre = None\n",
    "    while head!=None:\n",
    "        next = head.next\n",
    "        head.next = pre\n",
    "        head.prev = next\n",
    "        pre = head\n",
    "        head = next\n",
    "    return pre"
   ]
  },
  {
   "cell_type": "code",
   "execution_count": null,
   "metadata": {},
   "outputs": [],
   "source": [
    "if __name__ == '__main__':\n",
    "    fptr = open(os.environ['OUTPUT_PATH'], 'w')\n",
    "\n",
    "    t = int(input())\n",
    "\n",
    "    for t_itr in range(t):\n",
    "        llist_count = int(input())\n",
    "\n",
    "        llist = DoublyLinkedList()\n",
    "\n",
    "        for _ in range(llist_count):\n",
    "            llist_item = int(input())\n",
    "            llist.insert_node(llist_item)\n",
    "\n",
    "        llist1 = reverse(llist.head)\n",
    "\n",
    "        print_doubly_linked_list(llist1, ' ', fptr)\n",
    "        fptr.write('\\n')\n",
    "\n",
    "    fptr.close()"
   ]
  }
 ],
 "metadata": {
  "kernelspec": {
   "display_name": "Python 3",
   "language": "python",
   "name": "python3"
  },
  "language_info": {
   "codemirror_mode": {
    "name": "ipython",
    "version": 3
   },
   "file_extension": ".py",
   "mimetype": "text/x-python",
   "name": "python",
   "nbconvert_exporter": "python",
   "pygments_lexer": "ipython3",
   "version": "3.8.3"
  }
 },
 "nbformat": 4,
 "nbformat_minor": 4
}
