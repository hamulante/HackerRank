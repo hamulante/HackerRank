{
 "cells": [
  {
   "cell_type": "markdown",
   "metadata": {},
   "source": [
    "Linked Lists: Detect a Cycle\n",
    "\n",
    "A linked list is said to contain a cycle if any node is visited more than once while traversing the list.\n",
    "\n",
    "Function Description\n",
    "Complete the function has_cycle in the editor below. It must return a boolean true if the graph contains a cycle, or false.\n",
    "has_cycle has the following parameter(s):\n",
    "head: a pointer to a Node object that points to the head of a linked list.\n",
    "There is no input for this challenge. A random linked list is generated at runtime and passed to your function.\n",
    "If the list contains a cycle, your function must return true. If the list does not contain a cycle, it must return false. The binary integer corresponding to the boolean value returned by your function is printed to stdout by our hidden code checker."
   ]
  },
  {
   "cell_type": "code",
   "execution_count": null,
   "metadata": {},
   "outputs": [],
   "source": [
    "\"\"\"\n",
    "Detect a cycle in a linked list. Note that the head pointer may be 'None' if the list is empty.\n",
    "\n",
    "A Node is defined as: \n",
    " \n",
    "    class Node(object):\n",
    "        def __init__(self, data = None, next_node = None):\n",
    "            self.data = data\n",
    "            self.next = next_node\n",
    "\"\"\""
   ]
  },
  {
   "cell_type": "code",
   "execution_count": null,
   "metadata": {},
   "outputs": [],
   "source": [
    "def has_cycle(head):\n",
    "    slow=head\n",
    "    fast=head.next\n",
    "    while slow!=fast and slow!=None and fast!=None:\n",
    "        slow=slow.next\n",
    "        fast=fast.next\n",
    "        fast=fast.next\n",
    "    return slow==fast"
   ]
  }
 ],
 "metadata": {
  "kernelspec": {
   "display_name": "Python 3",
   "language": "python",
   "name": "python3"
  },
  "language_info": {
   "codemirror_mode": {
    "name": "ipython",
    "version": 3
   },
   "file_extension": ".py",
   "mimetype": "text/x-python",
   "name": "python",
   "nbconvert_exporter": "python",
   "pygments_lexer": "ipython3",
   "version": "3.8.3"
  }
 },
 "nbformat": 4,
 "nbformat_minor": 4
}
