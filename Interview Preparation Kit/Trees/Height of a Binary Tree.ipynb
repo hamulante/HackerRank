{
 "cells": [
  {
   "cell_type": "markdown",
   "metadata": {},
   "source": [
    "Height of a Binary Tree\n",
    "\n",
    "The height of a binary tree is the number of edges between the tree's root and its furthest leaf.\n",
    "\n",
    "Function Description\n",
    "Complete the getHeight or height function in the editor. It must return the height of a binary tree as an integer.\n",
    "getHeight or height has the following parameter(s):\n",
    "root: a reference to the root of a binary tree.\n",
    "Note - The Height of binary tree with single node is taken as zero.\n",
    "\n",
    "Note: Node values are inserted into a binary search tree before a reference to the tree's root node is passed to your function. In a binary search tree, all nodes on the left branch of a node are less than the node value. All values on the right branch are greater than the node value."
   ]
  },
  {
   "cell_type": "code",
   "execution_count": null,
   "metadata": {},
   "outputs": [],
   "source": [
    "class Node:\n",
    "    def __init__(self, info): \n",
    "        self.info = info  \n",
    "        self.left = None  \n",
    "        self.right = None \n",
    "        self.level = None \n",
    "\n",
    "    def __str__(self):\n",
    "        return str(self.info) \n",
    "\n",
    "class BinarySearchTree:\n",
    "    def __init__(self): \n",
    "        self.root = None\n",
    "\n",
    "    def create(self, val):  \n",
    "        if self.root == None:\n",
    "            self.root = Node(val)\n",
    "        else:\n",
    "            current = self.root\n",
    "         \n",
    "            while True:\n",
    "                if val < current.info:\n",
    "                    if current.left:\n",
    "                        current = current.left\n",
    "                    else:\n",
    "                        current.left = Node(val)\n",
    "                        break\n",
    "                elif val > current.info:\n",
    "                    if current.right:\n",
    "                        current = current.right\n",
    "                    else:\n",
    "                        current.right = Node(val)\n",
    "                        break\n",
    "                else:\n",
    "                    break"
   ]
  },
  {
   "cell_type": "code",
   "execution_count": null,
   "metadata": {},
   "outputs": [],
   "source": [
    "'''\n",
    "class Node:\n",
    "      def __init__(self,info): \n",
    "          self.info = info  \n",
    "          self.left = None  \n",
    "          self.right = None \n",
    "           \n",
    "\n",
    "       // this is a node of the tree , which contains info as data, left, right\n",
    "'''\n",
    "def height(root):\n",
    "    add = 0#同时兼顾了root不存在的情况\n",
    "    if root.left:\n",
    "        add = 1 + height(root.left)#递归的精妙，只要能挖就挖下去，挖不下去就跳出当前ifelse回溯上一步\n",
    "    if root.right:\n",
    "        add = 1 + height(root.right)   \n",
    "    return add\n",
    "\n",
    "#真是精妙啊，俺还是写不出\n",
    "#时间复杂度：O(N)，最差退化成链表\n",
    "#时间复杂度：O(1)"
   ]
  },
  {
   "cell_type": "code",
   "execution_count": null,
   "metadata": {},
   "outputs": [],
   "source": [
    "tree = BinarySearchTree()\n",
    "t = int(input())\n",
    "\n",
    "arr = list(map(int, input().split()))\n",
    "\n",
    "for i in range(t):\n",
    "    tree.create(arr[i])\n",
    "\n",
    "print(height(tree.root))"
   ]
  }
 ],
 "metadata": {
  "kernelspec": {
   "display_name": "Python 3",
   "language": "python",
   "name": "python3"
  },
  "language_info": {
   "codemirror_mode": {
    "name": "ipython",
    "version": 3
   },
   "file_extension": ".py",
   "mimetype": "text/x-python",
   "name": "python",
   "nbconvert_exporter": "python",
   "pygments_lexer": "ipython3",
   "version": "3.8.3"
  }
 },
 "nbformat": 4,
 "nbformat_minor": 4
}
