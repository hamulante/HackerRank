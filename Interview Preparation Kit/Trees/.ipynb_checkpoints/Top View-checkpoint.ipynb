{
 "cells": [
  {
   "cell_type": "markdown",
   "metadata": {},
   "source": [
    "Given a pointer to the root of a binary tree, print the top view of the binary tree. The tree as seen from the top the nodes, is called the top view of the tree.\n",
    "  1\n",
    "    \\\n",
    "     2\n",
    "      \\\n",
    "       5\n",
    "      /  \\\n",
    "     3    6\n",
    "      \\\n",
    "       4\n",
    "Top view: 1->2->5->6\n",
    "Complete the function topView and print the resulting values on a single line separated by space."
   ]
  },
  {
   "cell_type": "markdown",
   "metadata": {},
   "source": [
    "https://www.geeksforgeeks.org/print-nodes-top-view-binary-tree/\n",
    "A node x is there in output if x is the topmost node at its horizontal distance. Horizontal distance of left child of a node x is equal to horizontal distance of x-1, and that of right child is horizontal distance of x+1.\n",
    "The idea is to do something similar to vertical Order Traversal. Like vertical Order Traversal, we need to put nodes of same horizontal distance together. We do a level order traversal so that the topmost node at a horizontal node is visited before any other node of same horizontal distance below it. Hashing is used to check if a node at given horizontal distance is seen or not.\n",
    "俯视图，通过从上到下节点位置的投影找到最上面能看到的节点，相当于对节点做一次clean up。"
   ]
  },
  {
   "cell_type": "code",
   "execution_count": null,
   "metadata": {},
   "outputs": [],
   "source": [
    "class Node:\n",
    "    def __init__(self, info): \n",
    "        self.info = info  \n",
    "        self.left = None  \n",
    "        self.right = None \n",
    "        self.level = None \n",
    "\n",
    "    def __str__(self):\n",
    "        return str(self.info) \n",
    "\n",
    "class BinarySearchTree:\n",
    "    def __init__(self): \n",
    "        self.root = None\n",
    "\n",
    "    def create(self, val):  \n",
    "        if self.root == None:\n",
    "            self.root = Node(val)\n",
    "        else:\n",
    "            current = self.root\n",
    "         \n",
    "            while True:\n",
    "                if val < current.info:\n",
    "                    if current.left:\n",
    "                        current = current.left\n",
    "                    else:\n",
    "                        current.left = Node(val)\n",
    "                        break\n",
    "                elif val > current.info:\n",
    "                    if current.right:\n",
    "                        current = current.right\n",
    "                    else:\n",
    "                        current.right = Node(val)\n",
    "                        break\n",
    "                else:\n",
    "                    break"
   ]
  },
  {
   "cell_type": "code",
   "execution_count": null,
   "metadata": {},
   "outputs": [],
   "source": [
    "\"\"\"\n",
    "Node is defined as\n",
    "self.left (the left child of the node)\n",
    "self.right (the right child of the node)\n",
    "self.info (the value of the node)\n",
    "\"\"\"\n",
    "def topView(root):\n",
    "    if(root == None) : \n",
    "        return\n",
    "    q = [] \n",
    "    m = dict() \n",
    "    hd = 0\n",
    "    root.hd = hd#hd（Horizontal distance）是每个节点的key，初始为0     \n",
    "    q.append(root)#q用于存放所有的节点  \n",
    "    \n",
    "    while(len(q)) : \n",
    "        root = q[0] \n",
    "        hd = root.hd             \n",
    "        if hd not in m: \n",
    "            m[hd] = root.info#Horizontal distance和节点值存储在字典里  \n",
    "        if(root.left) :          \n",
    "            root.left.hd = hd - 1#左孩子的Horizontal distance=父节点-1\n",
    "            q.append(root.left)            \n",
    "        if(root.right):          \n",
    "            root.right.hd = hd + 1#右孩子的Horizontal distance=父节点+1\n",
    "            q.append(root.right)            \n",
    "        q.pop(0) \n",
    "    for i in sorted (m): \n",
    "        print(m[i], end = \" \")#按要求隔一个空格打印该数组"
   ]
  },
  {
   "cell_type": "markdown",
   "metadata": {},
   "source": [
    "                    1（0）\n",
    "              ---------------\n",
    "             /               \\\n",
    "       （-1）2                 3（1）\n",
    "           / \\               / \\\n",
    "     （-2）4   5（0）    （0）6   7（2）\n",
    "括号里是每个节点的hd，左孩子=父亲-1，右孩子=父亲+1。按照规则，循环时会把某一节点的左右孩子都加进队列，相当于广度优先，并且只有hd第一次出现时才会被加进哈希表，所以低层级的节点不会被加入，也就是被高层节点的阴影盖住了。这样一来，哈希表只有-2，-1，0，1，2，对应了4，2，1，3，7。"
   ]
  },
  {
   "cell_type": "code",
   "execution_count": null,
   "metadata": {},
   "outputs": [],
   "source": [
    "tree = BinarySearchTree()\n",
    "t = int(input())\n",
    "\n",
    "arr = list(map(int, input().split()))\n",
    "\n",
    "for i in range(t):\n",
    "    tree.create(arr[i])\n",
    "\n",
    "topView(tree.root)"
   ]
  }
 ],
 "metadata": {
  "kernelspec": {
   "display_name": "Python 3",
   "language": "python",
   "name": "python3"
  },
  "language_info": {
   "codemirror_mode": {
    "name": "ipython",
    "version": 3
   },
   "file_extension": ".py",
   "mimetype": "text/x-python",
   "name": "python",
   "nbconvert_exporter": "python",
   "pygments_lexer": "ipython3",
   "version": "3.8.3"
  }
 },
 "nbformat": 4,
 "nbformat_minor": 4
}
